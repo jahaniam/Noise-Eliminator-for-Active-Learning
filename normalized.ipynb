{
 "cells": [
  {
   "cell_type": "code",
   "execution_count": 1,
   "metadata": {},
   "outputs": [],
   "source": [
    "import numpy as np\n",
    "import pandas as pd\n",
    "from sklearn.model_selection import train_test_split\n",
    "from sklearn.neural_network import MLPClassifier\n",
    "from sklearn import preprocessing\n",
    "from sklearn.metrics import accuracy_score"
   ]
  },
  {
   "cell_type": "code",
   "execution_count": 2,
   "metadata": {},
   "outputs": [
    {
     "name": "stdout",
     "output_type": "stream",
     "text": [
      "(14980, 15)\n",
      "           AF3       F7       F3      FC5       T7       P7       O1       O2  \\\n",
      "0      4329.23  4009.23  4289.23  4148.21  4350.26  4586.15  4096.92  4641.03   \n",
      "1      4324.62  4004.62  4293.85  4148.72  4342.05  4586.67  4097.44  4638.97   \n",
      "2      4327.69  4006.67  4295.38  4156.41  4336.92  4583.59  4096.92  4630.26   \n",
      "3      4328.72  4011.79  4296.41  4155.90  4343.59  4582.56  4097.44  4630.77   \n",
      "4      4326.15  4011.79  4292.31  4151.28  4347.69  4586.67  4095.90  4627.69   \n",
      "...        ...      ...      ...      ...      ...      ...      ...      ...   \n",
      "14975  4281.03  3990.26  4245.64  4116.92  4333.85  4614.36  4074.87  4625.64   \n",
      "14976  4276.92  3991.79  4245.13  4110.77  4332.82  4615.38  4073.33  4621.54   \n",
      "14977  4277.44  3990.77  4246.67  4113.85  4333.33  4615.38  4072.82  4623.59   \n",
      "14978  4284.62  3991.79  4251.28  4122.05  4334.36  4616.41  4080.51  4628.72   \n",
      "14979  4287.69  3997.44  4260.00  4121.03  4333.33  4616.41  4088.72  4638.46   \n",
      "\n",
      "            P8       T8      FC6       F4       F8      AF4  Eye_detection  \n",
      "0      4222.05  4238.46  4211.28  4280.51  4635.90  4393.85              0  \n",
      "1      4210.77  4226.67  4207.69  4279.49  4632.82  4384.10              0  \n",
      "2      4207.69  4222.05  4206.67  4282.05  4628.72  4389.23              0  \n",
      "3      4217.44  4235.38  4210.77  4287.69  4632.31  4396.41              0  \n",
      "4      4210.77  4244.10  4212.82  4288.21  4632.82  4398.46              0  \n",
      "...        ...      ...      ...      ...      ...      ...            ...  \n",
      "14975  4203.08  4221.54  4171.28  4269.23  4593.33  4340.51              1  \n",
      "14976  4194.36  4217.44  4162.56  4259.49  4590.26  4333.33              1  \n",
      "14977  4193.33  4212.82  4160.51  4257.95  4591.79  4339.49              1  \n",
      "14978  4200.00  4220.00  4165.64  4267.18  4596.41  4350.77              1  \n",
      "14979  4212.31  4226.67  4167.69  4274.36  4597.95  4350.77              1  \n",
      "\n",
      "[14980 rows x 15 columns]\n"
     ]
    }
   ],
   "source": [
    "random_state = 8\n",
    "data = pd.read_csv('EEG_Eye_State.csv')\n",
    "print(data.shape)\n",
    "print(data)"
   ]
  },
  {
   "cell_type": "code",
   "execution_count": 3,
   "metadata": {},
   "outputs": [
    {
     "name": "stdout",
     "output_type": "stream",
     "text": [
      "0        0\n",
      "1        0\n",
      "2        0\n",
      "3        0\n",
      "4        0\n",
      "        ..\n",
      "14975    1\n",
      "14976    1\n",
      "14977    1\n",
      "14978    1\n",
      "14979    1\n",
      "Name: Eye_detection, Length: 14980, dtype: int64\n"
     ]
    }
   ],
   "source": [
    "X = data.loc[:,data.columns !='Eye_detection']\n",
    "y = data['Eye_detection']\n",
    "print(y)"
   ]
  },
  {
   "cell_type": "code",
   "execution_count": 4,
   "metadata": {},
   "outputs": [
    {
     "name": "stdout",
     "output_type": "stream",
     "text": [
      "[[0.00709008 0.00816878 0.00821827 ... 0.00817247 0.00793945 0.00487585]\n",
      " [0.00708253 0.00815939 0.00822712 ... 0.00817052 0.00793417 0.00486503]\n",
      " [0.00708756 0.00816357 0.00823005 ... 0.00817541 0.00792715 0.00487072]\n",
      " ...\n",
      " [0.00700526 0.00813117 0.00813672 ... 0.0081294  0.0078639  0.00481553]\n",
      " [0.00701702 0.00813325 0.00814556 ... 0.00814702 0.00787182 0.00482804]\n",
      " [0.00702205 0.00814476 0.00816226 ... 0.00816073 0.00787445 0.00482804]]\n",
      "(14980, 14)\n"
     ]
    }
   ],
   "source": [
    "normalized_X = preprocessing.normalize(X, axis=0)\n",
    "print(normalized_X)\n",
    "print(normalized_X.shape)"
   ]
  },
  {
   "cell_type": "code",
   "execution_count": 5,
   "metadata": {},
   "outputs": [
    {
     "data": {
      "text/plain": [
       "0.9999999999999954"
      ]
     },
     "execution_count": 5,
     "metadata": {},
     "output_type": "execute_result"
    }
   ],
   "source": [
    "np.linalg.norm(normalized_X[:,0])"
   ]
  },
  {
   "cell_type": "code",
   "execution_count": 11,
   "metadata": {},
   "outputs": [
    {
     "name": "stdout",
     "output_type": "stream",
     "text": [
      "Accuracy on normalized :  55.57409879839786\n"
     ]
    }
   ],
   "source": [
    "# Split into train and test data \n",
    "X_train, X_test, y_train, y_test = train_test_split(normalized_X, y, test_size = 0.2, random_state = random_state)\n",
    "# Train a multi-layer perceptron\n",
    "clf0 = MLPClassifier(hidden_layer_sizes=(100,100),random_state=random_state, verbose=False, max_iter=1000)\n",
    "clf0.fit(X_train, y_train)\n",
    "# Predict accuracy of classifier\n",
    "y_pred = clf0.predict(X_test)\n",
    "acc = accuracy_score(y_pred, y_test)\n",
    "print('Accuracy on normalized : ', acc*100)\n"
   ]
  },
  {
   "cell_type": "code",
   "execution_count": null,
   "metadata": {},
   "outputs": [],
   "source": []
  },
  {
   "cell_type": "code",
   "execution_count": 12,
   "metadata": {},
   "outputs": [
    {
     "name": "stdout",
     "output_type": "stream",
     "text": [
      "Accuracy on raw :  44.45927903871829\n"
     ]
    }
   ],
   "source": [
    "# Split into train and test data \n",
    "X_train, X_test, y_train, y_test = train_test_split(X, y, test_size = 0.2, random_state = random_state)\n",
    "# Train a multi-layer perceptron\n",
    "clf0 = MLPClassifier(hidden_layer_sizes=(100,100),random_state=random_state, verbose=False, max_iter=1000)\n",
    "clf0.fit(X_train, y_train)\n",
    "# Predict accuracy of classifier\n",
    "y_pred = clf0.predict(X_test)\n",
    "acc = accuracy_score(y_pred, y_test)\n",
    "print('Accuracy on raw : ', acc*100)\n"
   ]
  },
  {
   "cell_type": "code",
   "execution_count": 13,
   "metadata": {},
   "outputs": [],
   "source": [
    "## Feature scalig"
   ]
  },
  {
   "cell_type": "code",
   "execution_count": 14,
   "metadata": {},
   "outputs": [
    {
     "name": "stdout",
     "output_type": "stream",
     "text": [
      "(14980,)\n"
     ]
    },
    {
     "data": {
      "text/plain": [
       "-1.328117263102991e-16"
      ]
     },
     "execution_count": 14,
     "metadata": {},
     "output_type": "execute_result"
    }
   ],
   "source": [
    "scaled_X = preprocessing.scale(X)\n",
    "print(scaled_X[:,0].shape)\n",
    "np.mean(scaled_X[:,0])"
   ]
  },
  {
   "cell_type": "code",
   "execution_count": 15,
   "metadata": {},
   "outputs": [
    {
     "name": "stdout",
     "output_type": "stream",
     "text": [
      "Accuracy on scaled :  90.82109479305741\n"
     ]
    }
   ],
   "source": [
    "# Split into train and test data \n",
    "X_train, X_test, y_train, y_test = train_test_split(scaled_X, y, test_size = 0.2, random_state = random_state)\n",
    "# Train a multi-layer perceptron\n",
    "clf0 = MLPClassifier(hidden_layer_sizes=(100,100),random_state=random_state, verbose=False, max_iter=1000)\n",
    "clf0.fit(X_train, y_train)\n",
    "# Predict accuracy of classifier\n",
    "y_pred = clf0.predict(X_test)\n",
    "acc = accuracy_score(y_pred, y_test)\n",
    "print('Accuracy on scaled : ', acc*100)\n"
   ]
  },
  {
   "cell_type": "code",
   "execution_count": null,
   "metadata": {},
   "outputs": [],
   "source": []
  }
 ],
 "metadata": {
  "kernelspec": {
   "display_name": "Python 3",
   "language": "python",
   "name": "python3"
  },
  "language_info": {
   "codemirror_mode": {
    "name": "ipython",
    "version": 3
   },
   "file_extension": ".py",
   "mimetype": "text/x-python",
   "name": "python",
   "nbconvert_exporter": "python",
   "pygments_lexer": "ipython3",
   "version": "3.7.6"
  }
 },
 "nbformat": 4,
 "nbformat_minor": 4
}
